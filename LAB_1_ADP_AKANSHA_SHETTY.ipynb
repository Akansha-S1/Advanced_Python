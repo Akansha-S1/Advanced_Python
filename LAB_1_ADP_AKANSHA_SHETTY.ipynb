{
 "cells": [
  {
   "cell_type": "code",
   "execution_count": null,
   "id": "575e8b66",
   "metadata": {},
   "outputs": [],
   "source": [
    "# Example 1: numpy.array()"
   ]
  },
  {
   "cell_type": "code",
   "execution_count": 1,
   "id": "ee2e2dca",
   "metadata": {},
   "outputs": [
    {
     "name": "stdout",
     "output_type": "stream",
     "text": [
      "[1 2 3]\n"
     ]
    }
   ],
   "source": [
    "import numpy as np  \n",
    "arr=np.array([1,2,3])  \n",
    "print(arr) "
   ]
  },
  {
   "cell_type": "code",
   "execution_count": null,
   "id": "d2f5cff2",
   "metadata": {},
   "outputs": [],
   "source": [
    "# Example 2: Elements of different type"
   ]
  },
  {
   "cell_type": "code",
   "execution_count": 2,
   "id": "d6f27ce3",
   "metadata": {},
   "outputs": [
    {
     "name": "stdout",
     "output_type": "stream",
     "text": [
      "[1. 2. 3.]\n"
     ]
    }
   ],
   "source": [
    "import numpy as np  \n",
    "arr=np.array([1,2.,3.])  \n",
    "print(arr)"
   ]
  },
  {
   "cell_type": "code",
   "execution_count": null,
   "id": "de3befc1",
   "metadata": {},
   "outputs": [],
   "source": [
    "# Example 3: More than one dimensions - double square brackets indicates a 2D array"
   ]
  },
  {
   "cell_type": "code",
   "execution_count": 4,
   "id": "046dd6e3",
   "metadata": {},
   "outputs": [
    {
     "name": "stdout",
     "output_type": "stream",
     "text": [
      "[[1. 2. 3.]\n",
      " [3. 4. 5.]]\n"
     ]
    }
   ],
   "source": [
    "import numpy as np\n",
    "arr=np.array([[1.,2.,3.],[3.,4.,5.]])\n",
    "print(arr)"
   ]
  },
  {
   "cell_type": "code",
   "execution_count": null,
   "id": "f3a927af",
   "metadata": {},
   "outputs": [],
   "source": [
    "# Example 4: Minimum dimensions: 2"
   ]
  },
  {
   "cell_type": "code",
   "execution_count": 9,
   "id": "ed55edd5",
   "metadata": {},
   "outputs": [
    {
     "name": "stdout",
     "output_type": "stream",
     "text": [
      "[[1. 2. 3.]]\n"
     ]
    }
   ],
   "source": [
    "import numpy as np\n",
    "arr=np.array([1,2.,3.],ndmin=2)\n",
    "print(arr)"
   ]
  },
  {
   "cell_type": "code",
   "execution_count": null,
   "id": "55caf9fb",
   "metadata": {},
   "outputs": [],
   "source": [
    "# Example 5: Type provided: Elements to be shown inn the form of complex numbers"
   ]
  },
  {
   "cell_type": "code",
   "execution_count": 13,
   "id": "23464b1b",
   "metadata": {},
   "outputs": [
    {
     "name": "stdout",
     "output_type": "stream",
     "text": [
      "[12.+0.j 32.+0.j  2.+0.j]\n"
     ]
    }
   ],
   "source": [
    "import numpy as np\n",
    "arr=np.array([12,32.,2],dtype=complex)\n",
    "print(arr)"
   ]
  },
  {
   "cell_type": "code",
   "execution_count": null,
   "id": "4887a0f5",
   "metadata": {},
   "outputs": [],
   "source": [
    "# Example 6: Creating an array from sub-classes"
   ]
  },
  {
   "cell_type": "code",
   "execution_count": 19,
   "id": "bad5363a",
   "metadata": {},
   "outputs": [
    {
     "name": "stdout",
     "output_type": "stream",
     "text": [
      "[[1 2]\n",
      " [3 4]]\n",
      "-----------\n",
      "[[1 2]\n",
      " [3 4]]\n"
     ]
    }
   ],
   "source": [
    "import numpy as np\n",
    "arr=np.array(np.mat('1,2;3,4'))\n",
    "print(arr)\n",
    "print(\"-----------\")\n",
    "arr=np.array(np.mat('1,2;3,4'),subok=True)\n",
    "print(arr)"
   ]
  }
 ],
 "metadata": {
  "kernelspec": {
   "display_name": "Python 3 (ipykernel)",
   "language": "python",
   "name": "python3"
  },
  "language_info": {
   "codemirror_mode": {
    "name": "ipython",
    "version": 3
   },
   "file_extension": ".py",
   "mimetype": "text/x-python",
   "name": "python",
   "nbconvert_exporter": "python",
   "pygments_lexer": "ipython3",
   "version": "3.9.13"
  }
 },
 "nbformat": 4,
 "nbformat_minor": 5
}
