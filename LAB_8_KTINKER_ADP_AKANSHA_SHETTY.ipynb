{
 "cells": [
  {
   "cell_type": "code",
   "execution_count": 1,
   "id": "16df3d37",
   "metadata": {},
   "outputs": [],
   "source": [
    "#NAME: AKANSHA SHETTY   USN: 22BTRAD002      COURSE:AI/DE  SECTION:A\n",
    "#1\n",
    "\n",
    "import tkinter as tk\n",
    "from tkinter import filedialog\n",
    "\n",
    "class Web_App(tk.Tk):\n",
    "    def __init__(self):\n",
    "        super().__init__()\n",
    "        self.title(\"Web App\")\n",
    "        self.textarea = tk.Text(self, wrap=\"word\")\n",
    "        self.textarea.pack(fill=\"both\", expand=True)\n",
    "        self.menu_bar = tk.Menu(self)\n",
    "        self.file_menu = tk.Menu(self.menu_bar, tearoff=0)\n",
    "        self.file_menu.add_command(label=\"Save As\", command=self.save_file)\n",
    "        self.file_menu.add_command(label=\"Open\", command=self.open_file)\n",
    "        self.menu_bar.add_cascade(label=\"File\", menu=self.file_menu)\n",
    "        self.config(menu=self.menu_bar)\n",
    "\n",
    "    def save_file(self):\n",
    "        file_path = filedialog.asksaveasfilename(defaultextension=\".txt\", filetypes=[(\"Text Files\", \"*.txt\"), (\"All Files\", \"*.*\")])\n",
    "        if file_path:\n",
    "            with open(file_path, \"w\") as f:\n",
    "                f.write(self.textarea.get(1.0, tk.END))\n",
    "\n",
    "    def open_file(self):\n",
    "        file_path = filedialog.askopenfilename(filetypes=[(\"Text Files\", \"*.txt\"), (\"All Files\", \"*.*\")])\n",
    "        if file_path:\n",
    "            with open(file_path, \"r\") as f:\n",
    "                self.textarea.delete(1.0, tk.END)\n",
    "                self.textarea.insert(1.0, f.read())\n",
    "\n",
    "if __name__ == \"__main__\":\n",
    "    app = Web_App()\n",
    "    app.mainloop()\n"
   ]
  },
  {
   "cell_type": "code",
   "execution_count": 7,
   "id": "228b04e9",
   "metadata": {},
   "outputs": [],
   "source": [
    "import tkinter as tk\n",
    "root=tk.Tk()\n",
    "\n",
    "w=tk.Label(root, text='green', bg='green', fg='white')\n",
    "w.pack(padx=5, pady=10, side=tk.LEFT)\n",
    "w=tk.Label(root, text='red', bg='red', fg='white')\n",
    "w.pack(padx=5, pady=20, side=tk.LEFT)\n",
    "tk.mainloop()"
   ]
  },
  {
   "cell_type": "code",
   "execution_count": 12,
   "id": "58e54fe2",
   "metadata": {},
   "outputs": [],
   "source": [
    "import  tkinter as tk\n",
    "root=tk.Tk()\n",
    "\n",
    "w=tk.Label(root, text='red', bg='red', fg='white')\n",
    "w.pack(fill=tk.X)\n",
    "w=tk.Label(root, text='green', bg='green', fg='white')\n",
    "w.pack(fill=tk.X)\n",
    "tk.mainloop()"
   ]
  },
  {
   "cell_type": "code",
   "execution_count": 13,
   "id": "e52a67a0",
   "metadata": {},
   "outputs": [
    {
     "name": "stdout",
     "output_type": "stream",
     "text": [
      "Requirement already satisfied: Flask in c:\\users\\akans\\anaconda3\\lib\\site-packages (1.1.2)\n",
      "Requirement already satisfied: Werkzeug>=0.15 in c:\\users\\akans\\anaconda3\\lib\\site-packages (from Flask) (2.0.3)\n",
      "Requirement already satisfied: Jinja2>=2.10.1 in c:\\users\\akans\\anaconda3\\lib\\site-packages (from Flask) (2.11.3)\n",
      "Requirement already satisfied: itsdangerous>=0.24 in c:\\users\\akans\\anaconda3\\lib\\site-packages (from Flask) (2.0.1)\n",
      "Requirement already satisfied: click>=5.1 in c:\\users\\akans\\anaconda3\\lib\\site-packages (from Flask) (8.0.4)\n",
      "Requirement already satisfied: colorama in c:\\users\\akans\\anaconda3\\lib\\site-packages (from click>=5.1->Flask) (0.4.5)\n",
      "Requirement already satisfied: MarkupSafe>=0.23 in c:\\users\\akans\\anaconda3\\lib\\site-packages (from Jinja2>=2.10.1->Flask) (2.0.1)\n",
      "Note: you may need to restart the kernel to use updated packages.\n"
     ]
    }
   ],
   "source": [
    "pip install Flask\n"
   ]
  },
  {
   "cell_type": "code",
   "execution_count": 14,
   "id": "a4b4b349",
   "metadata": {},
   "outputs": [
    {
     "ename": "SyntaxError",
     "evalue": "invalid syntax (945115591.py, line 1)",
     "output_type": "error",
     "traceback": [
      "\u001b[1;36m  File \u001b[1;32m\"C:\\Users\\akans\\AppData\\Local\\Temp\\ipykernel_6512\\945115591.py\"\u001b[1;36m, line \u001b[1;32m1\u001b[0m\n\u001b[1;33m    python app.py\u001b[0m\n\u001b[1;37m           ^\u001b[0m\n\u001b[1;31mSyntaxError\u001b[0m\u001b[1;31m:\u001b[0m invalid syntax\n"
     ]
    }
   ],
   "source": [
    "python app.py"
   ]
  },
  {
   "cell_type": "code",
   "execution_count": null,
   "id": "2b7e0d64",
   "metadata": {},
   "outputs": [],
   "source": []
  }
 ],
 "metadata": {
  "kernelspec": {
   "display_name": "Python 3 (ipykernel)",
   "language": "python",
   "name": "python3"
  },
  "language_info": {
   "codemirror_mode": {
    "name": "ipython",
    "version": 3
   },
   "file_extension": ".py",
   "mimetype": "text/x-python",
   "name": "python",
   "nbconvert_exporter": "python",
   "pygments_lexer": "ipython3",
   "version": "3.9.13"
  }
 },
 "nbformat": 4,
 "nbformat_minor": 5
}
