{
 "cells": [
  {
   "cell_type": "code",
   "execution_count": null,
   "id": "617ba5ad",
   "metadata": {},
   "outputs": [],
   "source": [
    "#NAME: AKANSHA SHETTY             COURSE: AI/DE\n",
    "#SECTION: A                       USN: 22BTRAD002"
   ]
  },
  {
   "cell_type": "code",
   "execution_count": 4,
   "id": "24ff822c",
   "metadata": {},
   "outputs": [
    {
     "name": "stdout",
     "output_type": "stream",
     "text": [
      "{\"emp_name\": \"Ray\", \"job\": \"SE\"}\n",
      "{\"emp_name\": \"Rin\", \"job\": \"SSE\"}\n"
     ]
    }
   ],
   "source": [
    "#1\n",
    "import json\n",
    "\n",
    "dict_1= {'emp_name': 'Ray', 'job': 'SE'}\n",
    "dict_2 = {'emp_name': 'Rin', 'job': 'SSE'}\n",
    "\n",
    "json_a = json.dumps(dict_1)\n",
    "json_b = json.dumps(dict_2)\n",
    "\n",
    "print(json_a)\n",
    "print(json_b)\n",
    "\n"
   ]
  },
  {
   "cell_type": "code",
   "execution_count": 3,
   "id": "ca08f86a",
   "metadata": {},
   "outputs": [
    {
     "name": "stdout",
     "output_type": "stream",
     "text": [
      "Requirement already satisfied: my_package in c:\\users\\akans\\anaconda3\\lib\\site-packages (0.0.0)\n"
     ]
    }
   ],
   "source": [
    "!pip install my_package"
   ]
  },
  {
   "cell_type": "code",
   "execution_count": 9,
   "id": "e8b425ab",
   "metadata": {},
   "outputs": [],
   "source": []
  },
  {
   "cell_type": "code",
   "execution_count": 16,
   "id": "9f5d7439",
   "metadata": {},
   "outputs": [
    {
     "name": "stdout",
     "output_type": "stream",
     "text": [
      " * Serving Flask app \"__main__\" (lazy loading)\n",
      " * Environment: production\n",
      "\u001b[31m   WARNING: This is a development server. Do not use it in a production deployment.\u001b[0m\n",
      "\u001b[2m   Use a production WSGI server instead.\u001b[0m\n",
      " * Debug mode: on\n"
     ]
    },
    {
     "name": "stderr",
     "output_type": "stream",
     "text": [
      " * Restarting with watchdog (windowsapi)\n"
     ]
    },
    {
     "ename": "SystemExit",
     "evalue": "1",
     "output_type": "error",
     "traceback": [
      "An exception has occurred, use %tb to see the full traceback.\n",
      "\u001b[1;31mSystemExit\u001b[0m\u001b[1;31m:\u001b[0m 1\n"
     ]
    }
   ],
   "source": [
    "from flask import Flask, render_template\n",
    "app = Flask(__name__, template_folder='templates')\n",
    "\n",
    "@app.route('/')\n",
    "def index():\n",
    "    return render_template('base.html')\n",
    "\n",
    "if __name__ == '__main__':\n",
    "    app.run(host='0.0.0.0', debug=True, port=5000)"
   ]
  },
  {
   "cell_type": "code",
   "execution_count": null,
   "id": "de9e2d97",
   "metadata": {},
   "outputs": [],
   "source": []
  },
  {
   "cell_type": "code",
   "execution_count": null,
   "id": "de2bf518",
   "metadata": {},
   "outputs": [],
   "source": []
  }
 ],
 "metadata": {
  "kernelspec": {
   "display_name": "Python 3 (ipykernel)",
   "language": "python",
   "name": "python3"
  },
  "language_info": {
   "codemirror_mode": {
    "name": "ipython",
    "version": 3
   },
   "file_extension": ".py",
   "mimetype": "text/x-python",
   "name": "python",
   "nbconvert_exporter": "python",
   "pygments_lexer": "ipython3",
   "version": "3.9.13"
  }
 },
 "nbformat": 4,
 "nbformat_minor": 5
}
