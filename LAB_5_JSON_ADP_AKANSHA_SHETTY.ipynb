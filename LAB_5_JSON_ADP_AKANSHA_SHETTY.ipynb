{
 "cells": [
  {
   "cell_type": "code",
   "execution_count": null,
   "id": "43cf61d8",
   "metadata": {},
   "outputs": [],
   "source": [
    "#NAME: AKANSHA SHETTY             COURSE: AI/DE\n",
    "#SECTION: A                       USN: 22BTRAD002"
   ]
  },
  {
   "cell_type": "code",
   "execution_count": 3,
   "id": "c39ff967",
   "metadata": {},
   "outputs": [
    {
     "name": "stdout",
     "output_type": "stream",
     "text": [
      "[{\"key\": \"Sci\", \"value\": 81}, {\"key\": \"Math\", \"value\": 99}, {\"key\": \"Eng\", \"value\": 99}]\n"
     ]
    }
   ],
   "source": [
    "#1\n",
    "\n",
    "import json\n",
    "\n",
    "dict = {'Sci': 81, 'Math': 99, 'Eng': 99}\n",
    "\n",
    "L = [{'key': key, 'value': value} for key, value in dict.items()]\n",
    "\n",
    "json_output = json.dumps(L)\n",
    "\n",
    "print(json_output)\n"
   ]
  },
  {
   "cell_type": "code",
   "execution_count": null,
   "id": "ca9858d3",
   "metadata": {},
   "outputs": [],
   "source": [
    "#NAME: AKANSHA SHETTY             COURSE: AI/DE\n",
    "#SECTION: A                       USN: 22BTRAD002"
   ]
  },
  {
   "cell_type": "code",
   "execution_count": 4,
   "id": "6f27ff38",
   "metadata": {},
   "outputs": [
    {
     "name": "stdout",
     "output_type": "stream",
     "text": [
      "{\"emp_id\": \"109\", \"emp_name\": \"Sin\", \"emp_department\": \"SE\"}\n"
     ]
    }
   ],
   "source": [
    "#2\n",
    "\n",
    "import json\n",
    "\n",
    "dict = {'emp_id': '109', 'emp_name': 'Sin', 'emp_department': 'SE'}\n",
    "\n",
    "json_a = json.dumps(dict)\n",
    "\n",
    "print(json_a)\n"
   ]
  }
 ],
 "metadata": {
  "kernelspec": {
   "display_name": "Python 3 (ipykernel)",
   "language": "python",
   "name": "python3"
  },
  "language_info": {
   "codemirror_mode": {
    "name": "ipython",
    "version": 3
   },
   "file_extension": ".py",
   "mimetype": "text/x-python",
   "name": "python",
   "nbconvert_exporter": "python",
   "pygments_lexer": "ipython3",
   "version": "3.9.13"
  }
 },
 "nbformat": 4,
 "nbformat_minor": 5
}
